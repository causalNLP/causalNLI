{
  "nbformat": 4,
  "nbformat_minor": 0,
  "metadata": {
    "colab": {
      "provenance": []
    },
    "kernelspec": {
      "name": "python3",
      "display_name": "Python 3"
    },
    "language_info": {
      "name": "python"
    }
  },
  "cells": [
    {
      "cell_type": "code",
      "source": [
        "from google.colab import drive\n",
        "drive.mount('/content/drive')"
      ],
      "metadata": {
        "colab": {
          "base_uri": "https://localhost:8080/"
        },
        "id": "lz4aq5GE1k24",
        "outputId": "6611b85d-6be6-4f8b-c31b-a49fcf0bce4c"
      },
      "execution_count": 2,
      "outputs": [
        {
          "output_type": "stream",
          "name": "stdout",
          "text": [
            "Drive already mounted at /content/drive; to attempt to forcibly remount, call drive.mount(\"/content/drive\", force_remount=True).\n"
          ]
        }
      ]
    },
    {
      "cell_type": "code",
      "execution_count": null,
      "metadata": {
        "colab": {
          "base_uri": "https://localhost:8080/"
        },
        "id": "BjVincs1xx-l",
        "outputId": "7fc31d53-9587-4b7b-cc92-998d6d9cab97"
      },
      "outputs": [
        {
          "output_type": "execute_result",
          "data": {
            "text/plain": [
              "(52,\n",
              "                                                input  label\n",
              " 0  Premise: Suppose there is a closed system of 3...      0\n",
              " 1  Premise: Suppose there is a closed system of 3...      0\n",
              " 2  Premise: Suppose there is a closed system of 3...      0\n",
              " 3  Premise: Suppose there is a closed system of 3...      0\n",
              " 4  Premise: Suppose there is a closed system of 5...      0)"
            ]
          },
          "metadata": {},
          "execution_count": 2
        }
      ],
      "source": [
        "import pandas as pd\n",
        "\n",
        "# Load the CSV files\n",
        "dev_df = pd.read_csv('/content/drive/MyDrive/corr2cause/dev_new.csv')\n",
        "test_df = pd.read_csv('/content/drive/MyDrive/corr2cause/test_new.csv')\n",
        "\n",
        "# Checking the first few rows of each dataframe to understand their structure\n",
        "dev_df_head = dev_df.head()\n",
        "test_df_head = test_df.head()\n",
        "\n",
        "# Identifying duplicates between the two dataframes\n",
        "# Considering an item as duplicate if both 'input' and 'label' match\n",
        "duplicates = pd.merge(dev_df, test_df, on=['input', 'label'], how='inner')\n",
        "\n",
        "# Count of duplicates\n",
        "duplicate_count = duplicates.shape[0]\n",
        "duplicate_count, duplicates.head()"
      ]
    },
    {
      "cell_type": "code",
      "source": [
        "# Identifying duplicates between the two dataframes based on 'input' and 'label' columns\n",
        "duplicates = dev_df[dev_df[['input', 'label']].isin(test_df[['input', 'label']].to_dict(orient='list')).all(axis=1)]\n",
        "\n",
        "# Removing these duplicates from dev_df\n",
        "dev_df_dedup_corrected = dev_df.drop(duplicates.index)\n",
        "\n",
        "# Save the corrected de-duplicated dataframe to a new CSV file\n",
        "corrected_dedup_file_path = '/content/drive/MyDrive/corr2cause/dev_dedup1.csv'\n",
        "dev_df_dedup_corrected.to_csv(corrected_dedup_file_path, index=False)\n",
        "\n",
        "corrected_dedup_file_path, dev_df_dedup_corrected.shape[0]\n"
      ],
      "metadata": {
        "colab": {
          "base_uri": "https://localhost:8080/"
        },
        "id": "_O2gW8cQgcaK",
        "outputId": "c3d3d911-18a3-4ded-bbe5-2b209939d6b1"
      },
      "execution_count": null,
      "outputs": [
        {
          "output_type": "execute_result",
          "data": {
            "text/plain": [
              "('/content/drive/MyDrive/corr2cause/dev_dedup1.csv', 1108)"
            ]
          },
          "metadata": {},
          "execution_count": 18
        }
      ]
    },
    {
      "cell_type": "code",
      "source": [
        "import pandas as pd\n",
        "\n",
        "# Load the CSV files\n",
        "dev_df = pd.read_csv('/content/drive/MyDrive/corr2cause/dev_dedup1.csv')\n",
        "test_df = pd.read_csv('/content/drive/MyDrive/corr2cause/test.csv')\n",
        "\n",
        "# Checking the first few rows of each dataframe to understand their structure\n",
        "dev_df_head = dev_df.head()\n",
        "test_df_head = test_df.head()\n",
        "\n",
        "# Identifying duplicates between the two dataframes\n",
        "# Considering an item as duplicate if both 'input' and 'label' match\n",
        "duplicates = pd.merge(dev_df, test_df, on=['input', 'label'], how='inner')\n",
        "\n",
        "# Count of duplicates\n",
        "duplicate_count = duplicates.shape[0]\n",
        "duplicate_count, duplicates.head()"
      ],
      "metadata": {
        "colab": {
          "base_uri": "https://localhost:8080/"
        },
        "id": "Fu4hzhaNyMc7",
        "outputId": "4296970b-0f86-4ec3-c5c9-558fbe1125a4"
      },
      "execution_count": null,
      "outputs": [
        {
          "output_type": "execute_result",
          "data": {
            "text/plain": [
              "(0,\n",
              " Empty DataFrame\n",
              " Columns: [input, label]\n",
              " Index: [])"
            ]
          },
          "metadata": {},
          "execution_count": 20
        }
      ]
    },
    {
      "cell_type": "code",
      "source": [
        "import pandas as pd\n",
        "\n",
        "# Load the CSV files\n",
        "dev_df = pd.read_csv('/content/drive/MyDrive/corr2cause/dev_dedup1.csv')\n",
        "test_df = pd.read_csv('/content/drive/MyDrive/corr2cause/train_new.csv')\n",
        "\n",
        "# Checking the first few rows of each dataframe to understand their structure\n",
        "dev_df_head = dev_df.head()\n",
        "test_df_head = test_df.head()\n",
        "\n",
        "dev_df_head, test_df_head\n",
        "# Identifying duplicates between the two dataframes\n",
        "# Considering an item as duplicate if both 'input' and 'label' match\n",
        "duplicates = pd.merge(dev_df, test_df, on=['input', 'label'], how='inner')\n",
        "\n",
        "# Count of duplicates\n",
        "duplicate_count = duplicates.shape[0]\n",
        "duplicate_count, duplicates.head()\n"
      ],
      "metadata": {
        "id": "dxb5jF3bykbF",
        "colab": {
          "base_uri": "https://localhost:8080/"
        },
        "outputId": "9e8190ac-f8e3-469c-8359-b9e8516cde63"
      },
      "execution_count": null,
      "outputs": [
        {
          "output_type": "execute_result",
          "data": {
            "text/plain": [
              "(32,\n",
              "                                                input  label\n",
              " 0  Premise: Suppose there is a closed system of 5...      0\n",
              " 1  Premise: Suppose there is a closed system of 5...      0\n",
              " 2  Premise: Suppose there is a closed system of 5...      0\n",
              " 3  Premise: Suppose there is a closed system of 5...      0\n",
              " 4  Premise: Suppose there is a closed system of 5...      1)"
            ]
          },
          "metadata": {},
          "execution_count": 23
        }
      ]
    },
    {
      "cell_type": "code",
      "source": [
        "# Identifying duplicates between the two dataframes based on 'input' and 'label' columns\n",
        "duplicates = dev_df[dev_df[['input', 'label']].isin(test_df[['input', 'label']].to_dict(orient='list')).all(axis=1)]\n",
        "\n",
        "# Removing these duplicates from dev_df\n",
        "dev_df_dedup_corrected = dev_df.drop(duplicates.index)\n",
        "\n",
        "# Save the corrected de-duplicated dataframe to a new CSV file\n",
        "corrected_dedup_file_path = '/content/drive/MyDrive/corr2cause/dev_dedup2.csv'\n",
        "dev_df_dedup_corrected.to_csv(corrected_dedup_file_path, index=False)\n",
        "\n",
        "corrected_dedup_file_path, dev_df_dedup_corrected.shape[0]\n"
      ],
      "metadata": {
        "colab": {
          "base_uri": "https://localhost:8080/"
        },
        "id": "J7kTYQz0fEZe",
        "outputId": "6bb47bbb-28ea-4093-fc39-b3edc9116b40"
      },
      "execution_count": null,
      "outputs": [
        {
          "output_type": "execute_result",
          "data": {
            "text/plain": [
              "('/content/drive/MyDrive/corr2cause/dev_dedup2.csv', 1076)"
            ]
          },
          "metadata": {},
          "execution_count": 24
        }
      ]
    },
    {
      "cell_type": "code",
      "source": [
        "import pandas as pd\n",
        "\n",
        "# Load the CSV files\n",
        "dev_df = pd.read_csv('/content/drive/MyDrive/corr2cause/dev_dedup2.csv')\n",
        "test_df = pd.read_csv('/content/drive/MyDrive/corr2cause/train_new.csv')\n",
        "\n",
        "# Checking the first few rows of each dataframe to understand their structure\n",
        "dev_df_head = dev_df.head()\n",
        "test_df_head = test_df.head()\n",
        "\n",
        "dev_df_head, test_df_head\n",
        "# Identifying duplicates between the two dataframes\n",
        "# Considering an item as duplicate if both 'input' and 'label' match\n",
        "duplicates = pd.merge(dev_df, test_df, on=['input', 'label'], how='inner')\n",
        "\n",
        "# Count of duplicates\n",
        "duplicate_count = duplicates.shape[0]\n",
        "duplicate_count, duplicates.head()\n"
      ],
      "metadata": {
        "colab": {
          "base_uri": "https://localhost:8080/"
        },
        "id": "BVIZlMoofS4R",
        "outputId": "61495304-bc23-4245-e883-fac21ea48a15"
      },
      "execution_count": null,
      "outputs": [
        {
          "output_type": "execute_result",
          "data": {
            "text/plain": [
              "(0,\n",
              " Empty DataFrame\n",
              " Columns: [input, label]\n",
              " Index: [])"
            ]
          },
          "metadata": {},
          "execution_count": 26
        }
      ]
    },
    {
      "cell_type": "code",
      "source": [
        "import pandas as pd\n",
        "\n",
        "# Load the CSV files\n",
        "dev_df = pd.read_csv('/content/drive/MyDrive/corr2cause/train.csv')\n",
        "test_df = pd.read_csv('/content/drive/MyDrive/corr2cause/test.csv')\n",
        "\n",
        "# Checking the first few rows of each dataframe to understand their structure\n",
        "dev_df_head = dev_df.head()\n",
        "test_df_head = test_df.head()\n",
        "\n",
        "dev_df_head, test_df_head\n",
        "# Identifying duplicates between the two dataframes\n",
        "# Considering an item as duplicate if both 'input' and 'label' match\n",
        "duplicates = pd.merge(dev_df, test_df, on=['input', 'label'], how='inner')\n",
        "\n",
        "# Count of duplicates\n",
        "duplicate_count = duplicates.shape[0]\n",
        "duplicate_count, duplicates.head()\n"
      ],
      "metadata": {
        "colab": {
          "base_uri": "https://localhost:8080/"
        },
        "id": "tISK0Ivl1v9s",
        "outputId": "05c7c77c-0629-4263-b5ee-42f2991d8e71"
      },
      "execution_count": null,
      "outputs": [
        {
          "output_type": "execute_result",
          "data": {
            "text/plain": [
              "(0,\n",
              " Empty DataFrame\n",
              " Columns: [input, label]\n",
              " Index: [])"
            ]
          },
          "metadata": {},
          "execution_count": 27
        }
      ]
    },
    {
      "cell_type": "code",
      "source": [
        "import re\n",
        "\n",
        "def parse_relationship_string(s):\n",
        "    property2hyp_template = {\n",
        "        \"parent\": \"{node_i} directly affects {node_j}.\",\n",
        "        \"non-parent ancestor\": \"{node_i} influences {node_j} through some mediator(s).\",\n",
        "        \"child\": \"{node_j} directly affects {node_i}.\",\n",
        "        \"non-child descendant\": \"{node_j} influences {node_i} through some mediator(s).\",\n",
        "        \"has_collider\": \"{node_i} and {node_j} together cause some other variable(s).\",\n",
        "        \"has_confounder\": \"Some variable(s) cause(s) both {node_i} and {node_j}.\",\n",
        "    }\n",
        "\n",
        "    for key, template in property2hyp_template.items():\n",
        "        # Replace placeholders with regex patterns and escape other characters\n",
        "        pattern = re.escape(template).replace(\"\\\\{node_i\\\\}\", \"(.*?)\").replace(\"\\\\{node_j\\\\}\", \"(.*?)\")\n",
        "        match = re.match(pattern, s)\n",
        "        if match:\n",
        "            node_i, node_j = match.groups()\n",
        "            return key, node_i, node_j\n",
        "\n",
        "    return None\n",
        "\n",
        "# Example usage\n",
        "example_string = \"X directly affects Y.\"\n",
        "result = parse_relationship_string(example_string)\n",
        "result  # Expected to be ('parent', 'X', 'Y')\n"
      ],
      "metadata": {
        "colab": {
          "base_uri": "https://localhost:8080/"
        },
        "id": "MA9I8ggYcZC8",
        "outputId": "303c3885-5eb3-4948-f88c-78437b78d7d6"
      },
      "execution_count": 20,
      "outputs": [
        {
          "output_type": "execute_result",
          "data": {
            "text/plain": [
              "('parent', 'X', 'Y')"
            ]
          },
          "metadata": {},
          "execution_count": 20
        }
      ]
    },
    {
      "cell_type": "code",
      "source": [
        "property2hyp_template_new = {\n",
        "        \"parent\": \"{node_i} directly affects {node_j}.\",\n",
        "        \"non-parent ancestor\": \"{node_i} influences {node_j} through some mediator(s).\",\n",
        "        \"child\": \"{node_j} directly affects {node_i}.\",\n",
        "        \"non-child descendant\": \"{node_j} influences {node_i} through some mediator(s).\",\n",
        "        \"has_collider\": \"{node_i} and {node_j} together cause some other variable(s).\",\n",
        "        \"has_confounder\": \"Some variable(s) cause(s) both {node_i} and {node_j}.\",\n",
        "    }\n",
        "property2hyp_template_original = {\n",
        "        \"parent\": \"{node_i} directly causes {node_j}.\",\n",
        "        \"non-parent ancestor\": \"{node_i} causes something else which causes {node_j}.\",\n",
        "        \"child\": \"{node_j} directly causes {node_i}.\",\n",
        "        \"non-child descendant\": \"{node_j} is a cause for {node_i}, but not a direct one.\",\n",
        "        \"has_collider\": \"There exists at least one collider (i.e., common effect) of {node_i} and {node_j}.\",\n",
        "        \"has_confounder\": \"There exists at least one confounder (i.e., common cause) of {node_i} and {node_j}.\",\n",
        "    }\n",
        "\n",
        "# Transformation function that only applies to the hypothesis part of the input\n",
        "def transform_hypothesis_string(input_string):\n",
        "        # Split the premise and hypothesis\n",
        "        premise, _, hypothesis = input_string.partition('Hypothesis:')\n",
        "        hypothesis = hypothesis.strip()\n",
        "\n",
        "        # Find the template key that matches the hypothesis\n",
        "        for key, new_template in property2hyp_template_new.items():\n",
        "            pattern = re.escape(new_template).replace(\"\\\\{node_i\\\\}\", \"(.*?)\").replace(\"\\\\{node_j\\\\}\", \"(.*?)\")\n",
        "            match = re.match(pattern, hypothesis)\n",
        "            if match:\n",
        "                node_i, node_j = match.groups()\n",
        "                # Replace the hypothesis with the one from the original template\n",
        "                hypothesis_transformed = property2hyp_template_original[key].format(node_i=node_i, node_j=node_j)\n",
        "                # Reconstruct the full input string with the transformed hypothesis\n",
        "                return f\"{premise}Hypothesis: {hypothesis_transformed}\"\n",
        "\n",
        "        # If no template matches, return the input string as it is\n",
        "        return input_string"
      ],
      "metadata": {
        "id": "UmQ-5s2sjuEA"
      },
      "execution_count": 21,
      "outputs": []
    },
    {
      "cell_type": "code",
      "source": [
        "\n",
        "# Example usage\n",
        "example_string = \"Premise: Suppose there is a closed system of 3 variables, A, B and C. All the statistical relations among these 3 variables are as follows: A is independent of B. A and B are independent given C. A is independent of C. A and C are independent given B. B is independent of C. B and C are independent given A.\\nHypothesis: B and C together cause some other variable(s).\"\n",
        "result = transform_hypothesis_string(example_string)\n",
        "result  # Expected to be ('parent', 'X', 'Y')"
      ],
      "metadata": {
        "colab": {
          "base_uri": "https://localhost:8080/",
          "height": 108
        },
        "id": "Lt3PQPqEjy98",
        "outputId": "15750c7e-3c28-406a-9300-427aa556b46d"
      },
      "execution_count": null,
      "outputs": [
        {
          "output_type": "execute_result",
          "data": {
            "text/plain": [
              "'Premise: Suppose there is a closed system of 3 variables, A, B and C. All the statistical relations among these 3 variables are as follows: A is independent of B. A and B are independent given C. A is independent of C. A and C are independent given B. B is independent of C. B and C are independent given A.\\nHypothesis: There exists at least one collider (i.e., common effect) of B and C.'"
            ],
            "application/vnd.google.colaboratory.intrinsic+json": {
              "type": "string"
            }
          },
          "metadata": {},
          "execution_count": 29
        }
      ]
    },
    {
      "cell_type": "code",
      "source": [
        "def transform_hypothesis_in_csv(input_path, output_path):\n",
        "    # Read the input CSV file\n",
        "    df = pd.read_csv(input_path)\n",
        "\n",
        "    # Define the original and new templates\n",
        "\n",
        "    # Apply the transformation to the 'input' column\n",
        "    df['input'] = df['input'].apply(transform_hypothesis_string)\n",
        "\n",
        "    # Save the transformed dataframe to the output CSV file\n",
        "    df.to_csv(output_path, index=False)\n",
        "\n",
        "# Path to the uploaded CSV file\n",
        "input_path = '/content/drive/MyDrive/corr2cause/train_new.csv'\n",
        "\n",
        "# Path for the output CSV file\n",
        "output_path = '/content/drive/MyDrive/corr2cause/train_new_origin.csv'\n",
        "\n",
        "# Apply the transformation\n",
        "transform_hypothesis_in_csv(input_path, output_path)\n",
        "\n",
        "output_path\n"
      ],
      "metadata": {
        "colab": {
          "base_uri": "https://localhost:8080/",
          "height": 36
        },
        "id": "A3Bd30aVcZij",
        "outputId": "1a747fb9-749f-4bad-b141-e8900febdea0"
      },
      "execution_count": null,
      "outputs": [
        {
          "output_type": "execute_result",
          "data": {
            "text/plain": [
              "'/content/drive/MyDrive/corr2cause/train_new_origin.csv'"
            ],
            "application/vnd.google.colaboratory.intrinsic+json": {
              "type": "string"
            }
          },
          "metadata": {},
          "execution_count": 30
        }
      ]
    },
    {
      "cell_type": "code",
      "source": [
        "input_path = '/content/drive/MyDrive/corr2cause/test_new.csv'\n",
        "\n",
        "# Path for the output CSV file\n",
        "output_path = '/content/drive/MyDrive/corr2cause/test_new_origin.csv'\n",
        "\n",
        "# Apply the transformation\n",
        "transform_hypothesis_in_csv(input_path, output_path)\n"
      ],
      "metadata": {
        "id": "gB-8l8t7kKyD"
      },
      "execution_count": null,
      "outputs": []
    },
    {
      "cell_type": "code",
      "source": [
        "input_path = '/content/drive/MyDrive/corr2cause/dev_dedup2.csv'\n",
        "\n",
        "# Path for the output CSV file\n",
        "output_path = '/content/drive/MyDrive/corr2cause/dev_new_origin.csv'\n",
        "\n",
        "# Apply the transformation\n",
        "transform_hypothesis_in_csv(input_path, output_path)\n"
      ],
      "metadata": {
        "id": "157Fam5UkL3d"
      },
      "execution_count": null,
      "outputs": []
    },
    {
      "cell_type": "code",
      "source": [
        "import random\n",
        "import re\n",
        "\n",
        "def maybe_transform_hypothesis_in_string(input_string):\n",
        "    # 将输入字符串分割为前提和假设部分\n",
        "    premise, _, hypothesis = input_string.partition('Hypothesis:')\n",
        "    hypothesis = hypothesis.strip()\n",
        "\n",
        "    # 定义需要检测的模板\n",
        "    detected_template = \"{node_i} causes something else which causes {node_j}.\"\n",
        "    # 定义替换的模板\n",
        "    alternative_template = \"{node_i} is a cause for {node_j}, but not a direct one.\"\n",
        "\n",
        "    # 使用正则表达式来找到对应的模板格式\n",
        "    pattern = re.escape(detected_template).replace(\"\\\\{node_i\\\\}\", \"(.*?)\").replace(\"\\\\{node_j\\\\}\", \"(.*?)\")\n",
        "    match = re.match(pattern, hypothesis)\n",
        "\n",
        "    # 如果找到匹配的模板\n",
        "    if match:\n",
        "        node_i, node_j = match.groups()\n",
        "        # 以50%的概率决定是否进行转换\n",
        "        if random.random() < 0.5:\n",
        "            # 进行模板替换\n",
        "            hypothesis_transformed = alternative_template.format(node_i=node_i, node_j=node_j)\n",
        "            # 重构完整的输入字符串\n",
        "            return f\"{premise}Hypothesis: {hypothesis_transformed}\"\n",
        "\n",
        "    # 如果没有匹配或者没有进行替换，则返回原字符串\n",
        "    return input_string\n",
        "\n",
        "def test_maybe_transform_template():\n",
        "    # 测试用例\n",
        "    test_cases = [\n",
        "        \"Premise: Suppose there is a closed system of 2 variables, A and B. All the statistical relations among these 2 variables are as follows: A correlates with B.\\nHypothesis: A causes something else which causes B.\",  # 匹配模板，可能会变化\n",
        "        \"A directly causes B.\",                     # 不匹配模板\n",
        "        \"Some unrelated text.\",                                  # 不匹配模板\n",
        "    ]\n",
        "\n",
        "    # 测试每个用例\n",
        "    for test_case in test_cases:\n",
        "        transformed = maybe_transform_hypothesis_in_string(test_case)\n",
        "        print(f\"Original: {test_case}\")\n",
        "        print(f\"Transformed: {transformed}\\n\")\n",
        "\n",
        "# 运行测试\n",
        "test_maybe_transform_template()\n"
      ],
      "metadata": {
        "id": "-HOWL2J8rGEi",
        "colab": {
          "base_uri": "https://localhost:8080/"
        },
        "outputId": "fe47eb2b-f340-4c47-95b4-2e45bca57bc9"
      },
      "execution_count": null,
      "outputs": [
        {
          "output_type": "stream",
          "name": "stdout",
          "text": [
            "Original: Premise: Suppose there is a closed system of 2 variables, A and B. All the statistical relations among these 2 variables are as follows: A correlates with B.\n",
            "Hypothesis: A causes something else which causes B.\n",
            "Transformed: Premise: Suppose there is a closed system of 2 variables, A and B. All the statistical relations among these 2 variables are as follows: A correlates with B.\n",
            "Hypothesis: A causes something else which causes B.\n",
            "\n",
            "Original: A directly causes B.\n",
            "Transformed: A directly causes B.\n",
            "\n",
            "Original: Some unrelated text.\n",
            "Transformed: Some unrelated text.\n",
            "\n"
          ]
        }
      ]
    },
    {
      "cell_type": "code",
      "source": [
        "def transform_hypothesis_in_csv(input_path, output_path):\n",
        "    # Read the input CSV file\n",
        "    df = pd.read_csv(input_path)\n",
        "\n",
        "    # Define the original and new templates\n",
        "\n",
        "    # Apply the transformation to the 'input' column\n",
        "    df['input'] = df['input'].apply(maybe_transform_hypothesis_in_string)\n",
        "\n",
        "    # Save the transformed dataframe to the output CSV file\n",
        "    df.to_csv(output_path, index=False)"
      ],
      "metadata": {
        "id": "CsvbWLkCWI4n"
      },
      "execution_count": null,
      "outputs": []
    },
    {
      "cell_type": "code",
      "source": [
        "\n",
        "# Path to the uploaded CSV file\n",
        "input_path = '/content/drive/MyDrive/corr2cause/train_new_origin.csv'\n",
        "\n",
        "# Path for the output CSV file\n",
        "output_path = '/content/drive/MyDrive/corr2cause/train_new2.csv'\n",
        "\n",
        "# Apply the transformation\n",
        "transform_hypothesis_in_csv(input_path, output_path)\n",
        "\n",
        "output_path"
      ],
      "metadata": {
        "id": "8DFxFM5qXYhq"
      },
      "execution_count": null,
      "outputs": []
    },
    {
      "cell_type": "code",
      "source": [
        "# Path to the uploaded CSV file\n",
        "input_path = '/content/drive/MyDrive/corr2cause/dev_new2.csv'\n",
        "\n",
        "# Path for the output CSV file\n",
        "output_path = '/content/drive/MyDrive/corr2cause/dev_new2.csv'\n",
        "\n",
        "# Apply the transformation\n",
        "transform_hypothesis_in_csv(input_path, output_path)\n",
        "\n",
        "output_path"
      ],
      "metadata": {
        "id": "Xn_QBXDLWPMj"
      },
      "execution_count": null,
      "outputs": []
    },
    {
      "cell_type": "code",
      "source": [
        "# Path to the uploaded CSV file\n",
        "input_path = '/content/drive/MyDrive/corr2cause/test_new_origin.csv'\n",
        "\n",
        "# Path for the output CSV file\n",
        "output_path = '/content/drive/MyDrive/corr2cause/test_new2.csv'\n",
        "\n",
        "# Apply the transformation\n",
        "transform_hypothesis_in_csv(input_path, output_path)\n",
        "\n",
        "output_path"
      ],
      "metadata": {
        "id": "sZ1Az900WQVc"
      },
      "execution_count": null,
      "outputs": []
    },
    {
      "cell_type": "code",
      "source": [
        "input_path = '/content/drive/MyDrive/corr2cause/dev_dedup2.csv'\n",
        "\n",
        "# Path for the output CSV file\n",
        "output_path = '/content/drive/MyDrive/corr2cause/dev_new_origin.csv'\n",
        "\n",
        "# Apply the transformation\n",
        "transform_hypothesis_in_csv(input_path, output_path)\n"
      ],
      "metadata": {
        "id": "Au0I9mOOUHgZ"
      },
      "execution_count": null,
      "outputs": []
    },
    {
      "cell_type": "code",
      "source": [
        "\n",
        "train_df = pd.read_csv('/content/drive/MyDrive/corr2cause/train_new_origin.csv')\n",
        "dev_df = pd.read_csv('/content/drive/MyDrive/corr2cause/dev_new_origin.csv')\n",
        "test_df = pd.read_csv('/content/drive/MyDrive/corr2cause/test_new_origin.csv')"
      ],
      "metadata": {
        "id": "mhfArT3rkSvC"
      },
      "execution_count": null,
      "outputs": []
    },
    {
      "cell_type": "code",
      "source": [
        "print(len(train_df))"
      ],
      "metadata": {
        "colab": {
          "base_uri": "https://localhost:8080/"
        },
        "id": "oDie2nAak0Ti",
        "outputId": "e46bf415-397b-4e66-c0f8-671f9670e6c4"
      },
      "execution_count": null,
      "outputs": [
        {
          "output_type": "stream",
          "name": "stdout",
          "text": [
            "205734\n"
          ]
        }
      ]
    },
    {
      "cell_type": "code",
      "source": [
        "print(len(dev_df))"
      ],
      "metadata": {
        "colab": {
          "base_uri": "https://localhost:8080/"
        },
        "id": "PWTAew35k0w_",
        "outputId": "49bfb1a1-d831-43b2-d23e-4d667ee8659d"
      },
      "execution_count": null,
      "outputs": [
        {
          "output_type": "stream",
          "name": "stdout",
          "text": [
            "1076\n"
          ]
        }
      ]
    },
    {
      "cell_type": "code",
      "source": [
        "print(len(test_df))"
      ],
      "metadata": {
        "colab": {
          "base_uri": "https://localhost:8080/"
        },
        "id": "e9O1OxCpk3Uz",
        "outputId": "4c2c89a0-865e-4459-d5dd-583cf25a24a8"
      },
      "execution_count": null,
      "outputs": [
        {
          "output_type": "stream",
          "name": "stdout",
          "text": [
            "1162\n"
          ]
        }
      ]
    },
    {
      "cell_type": "code",
      "source": [
        "import csv\n",
        "import re\n",
        "from collections import defaultdict\n",
        "\n",
        "def count_samples_by_variable_count(csv_file_path):\n",
        "    # 初始化计数器\n",
        "    count_dict = defaultdict(int)\n",
        "\n",
        "    with open(csv_file_path, newline='') as csvfile:\n",
        "        reader = csv.reader(csvfile)\n",
        "        for row in reader:\n",
        "            # 假设每行是一个字符串样本\n",
        "            sample = row[0]\n",
        "            # 提取出现的变量\n",
        "            variables = set(re.findall(r'\\b[A-F]\\b', sample))\n",
        "            # 更新计数\n",
        "            count_dict[len(variables)] += 1\n",
        "\n",
        "    # 返回一个包含从总体到2-6个变量的计数字典\n",
        "    total_samples = sum(count_dict.values())\n",
        "    print(count_dict)\n",
        "    return {'total': total_samples, **{f'N={i}': count_dict[i] for i in range(2, 7)}}\n",
        "\n",
        "# 使用函数\n",
        "csv_file_path = '/content/drive/MyDrive/corr2cause/train_new_origin.csv'\n",
        "result = count_samples_by_variable_count(csv_file_path)\n",
        "print(result)\n"
      ],
      "metadata": {
        "colab": {
          "base_uri": "https://localhost:8080/"
        },
        "id": "z45AwHxmk5Ij",
        "outputId": "7e94ce2f-6720-409a-c273-11b89739add7"
      },
      "execution_count": null,
      "outputs": [
        {
          "output_type": "stream",
          "name": "stdout",
          "text": [
            "defaultdict(<class 'int'>, {0: 1, 4: 576, 5: 7524, 6: 197634})\n",
            "{'total': 205735, 'N=2': 0, 'N=3': 0, 'N=4': 576, 'N=5': 7524, 'N=6': 197634}\n"
          ]
        }
      ]
    },
    {
      "cell_type": "code",
      "source": [
        "csv_file_path = '/content/drive/MyDrive/corr2cause/dev_new_origin.csv'\n",
        "result = count_samples_by_variable_count(csv_file_path)\n",
        "print(result)"
      ],
      "metadata": {
        "colab": {
          "base_uri": "https://localhost:8080/"
        },
        "id": "lRugnhIapcUb",
        "outputId": "53c12f40-974b-48a7-81bb-e51c3bc881fd"
      },
      "execution_count": null,
      "outputs": [
        {
          "output_type": "stream",
          "name": "stdout",
          "text": [
            "defaultdict(<class 'int'>, {0: 1, 2: 6, 3: 42, 4: 72, 5: 482, 6: 474})\n",
            "{'total': 1077, 'N=2': 6, 'N=3': 42, 'N=4': 72, 'N=5': 482, 'N=6': 474}\n"
          ]
        }
      ]
    },
    {
      "cell_type": "code",
      "source": [
        "csv_file_path = '/content/drive/MyDrive/corr2cause/test_new_origin.csv'\n",
        "result = count_samples_by_variable_count(csv_file_path)\n",
        "print(result)"
      ],
      "metadata": {
        "colab": {
          "base_uri": "https://localhost:8080/"
        },
        "id": "itDNt-zrphaT",
        "outputId": "737b7188-64f0-48e0-e419-5f9d7896bf68"
      },
      "execution_count": null,
      "outputs": [
        {
          "output_type": "stream",
          "name": "stdout",
          "text": [
            "defaultdict(<class 'int'>, {0: 1, 2: 6, 3: 48, 4: 72, 5: 514, 6: 522})\n",
            "{'total': 1163, 'N=2': 6, 'N=3': 48, 'N=4': 72, 'N=5': 514, 'N=6': 522}\n"
          ]
        }
      ]
    },
    {
      "cell_type": "code",
      "source": [
        "dict1 = {'total': 205735, 'N=2': 0, 'N=3': 0, 'N=4': 576, 'N=5': 7524, 'N=6': 197634}\n",
        "dict2 = {'total': 1077, 'N=2': 6, 'N=3': 42, 'N=4': 72, 'N=5': 482, 'N=6': 474}\n",
        "dict3 = {'total': 1163, 'N=2': 6, 'N=3': 48, 'N=4': 72, 'N=5': 514, 'N=6': 522}\n",
        "\n",
        "combined_dict = {}\n",
        "\n",
        "for key in dict1:\n",
        "    combined_dict[key] = dict1[key] + dict2[key] + dict3[key]\n",
        "\n",
        "print(combined_dict)\n"
      ],
      "metadata": {
        "colab": {
          "base_uri": "https://localhost:8080/"
        },
        "id": "bLuzg0m9plaz",
        "outputId": "29b22bea-9354-4dfd-9779-c92a0c8297a4"
      },
      "execution_count": null,
      "outputs": [
        {
          "output_type": "stream",
          "name": "stdout",
          "text": [
            "{'total': 207975, 'N=2': 12, 'N=3': 90, 'N=4': 720, 'N=5': 8520, 'N=6': 198630}\n"
          ]
        }
      ]
    },
    {
      "cell_type": "code",
      "source": [
        "property2hyp_template_original = {\n",
        "    \"parent\": \"{node_i} directly causes {node_j}.\",\n",
        "    \"non-parent ancestor\": \"{node_i} causes something else which causes {node_j}.\",\n",
        "    \"child\": \"{node_j} directly causes {node_i}.\",\n",
        "    \"non-child descendant\": \"{node_j} is a cause for {node_i}, but not a direct one.\",\n",
        "    \"has_collider\": \"There exists at least one collider (i.e., common effect) of {node_i} and {node_j}.\",\n",
        "    \"has_confounder\": \"There exists at least one confounder (i.e., common cause) of {node_i} and {node_j}.\",\n",
        "}\n",
        "def analyze_data_detailed(data, templates = property2hyp_template_original):\n",
        "    # Splitting data into premise and hypothesis\n",
        "    split_data = data.split('\\n')\n",
        "    premise = split_data[0].strip(\"Premise: \")\n",
        "    hypothesis = split_data[1].strip(\"Hypothesis: \")\n",
        "\n",
        "    # Count unique variables in the premise\n",
        "    variables = re.findall(r'\\b[A-Z]\\b', premise)\n",
        "    unique_variables = set(variables)\n",
        "    num_variables = len(unique_variables)\n",
        "\n",
        "    # Identify the template used\n",
        "    template_used = None\n",
        "    for key, template in templates.items():\n",
        "        for var_i in unique_variables:\n",
        "            for var_j in unique_variables:\n",
        "                # Skip if both variables are the same\n",
        "                if var_i == var_j:\n",
        "                    continue\n",
        "\n",
        "                # For parent/child, ensure node_i < node_j\n",
        "                if key in [\"parent\", \"child\"] and var_i >= var_j:\n",
        "                    continue\n",
        "\n",
        "                # Replace placeholders and check if it matches the hypothesis\n",
        "                temp_hypothesis = template.replace(\"{node_i}\", var_i).replace(\"{node_j}\", var_j)\n",
        "                if temp_hypothesis == hypothesis:\n",
        "                    template_used = key\n",
        "                    break\n",
        "            if template_used:\n",
        "                break\n",
        "\n",
        "    return num_variables, template_used\n",
        "\n",
        "data_example = \"\"\"Premise: Suppose there is a closed system of 4 variables, A, B, C and D. All the statistical relations among these 4 variables are as follows: A correlates with B. A correlates with C. A correlates with D. B correlates with C. B correlates with D. C correlates with D.\n",
        "Hypothesis: There exists at least one collider (i.e., common effect) of B and D.\"\"\"\n",
        "# Analyzing the data with the detailed function\n",
        "num_variables, template_used = analyze_data_detailed(data_example)\n",
        "num_variables, template_used"
      ],
      "metadata": {
        "colab": {
          "base_uri": "https://localhost:8080/"
        },
        "id": "khaQpSdK_jDJ",
        "outputId": "56109f30-8281-46cd-8575-87f4d16cc2fe"
      },
      "execution_count": 7,
      "outputs": [
        {
          "output_type": "execute_result",
          "data": {
            "text/plain": [
              "(4, 'has_collider')"
            ]
          },
          "metadata": {},
          "execution_count": 7
        }
      ]
    },
    {
      "cell_type": "code",
      "source": [
        "data_example = \"\"\"Premise: Suppose there is a closed system of 4 variables, A, B, C and D. All the statistical relations among these 4 variables are as follows: A correlates with B. A correlates with C. A correlates with D. B correlates with C. B correlates with D. C correlates with D.\n",
        "Hypothesis: D directly causes B.\"\"\"\n",
        "# Analyzing the data with the detailed function\n",
        "num_variables, template_used = analyze_data_detailed(data_example)\n",
        "num_variables, template_used"
      ],
      "metadata": {
        "colab": {
          "base_uri": "https://localhost:8080/"
        },
        "id": "qqmmYcNgGcp5",
        "outputId": "86585c06-90d3-4f95-b223-8df51d542f8f"
      },
      "execution_count": 10,
      "outputs": [
        {
          "output_type": "execute_result",
          "data": {
            "text/plain": [
              "(4, 'child')"
            ]
          },
          "metadata": {},
          "execution_count": 10
        }
      ]
    },
    {
      "cell_type": "code",
      "source": [
        "import pandas as pd\n",
        "\n",
        "def transform_and_count_hypothesis_in_csv(input_path, output_path):\n",
        "    # Read the input CSV file\n",
        "    df = pd.read_csv(input_path)\n",
        "\n",
        "    # Initialize counters\n",
        "    num_variables_counter = {}\n",
        "    template_counter = {}\n",
        "\n",
        "    # Function to apply to each row and update counters\n",
        "    def map_input_to_num_and_template(input_string):\n",
        "        num_variables, template_used = analyze_data_detailed(input_string)\n",
        "        # Update counters\n",
        "        num_variables_counter[num_variables] = num_variables_counter.get(num_variables, 0) + 1\n",
        "        template_counter[template_used] = template_counter.get(template_used, 0) + 1\n",
        "        return pd.Series([num_variables, template_used], index=['num_variables', 'template'])\n",
        "\n",
        "    # Apply the transformation to the 'input' column\n",
        "    df[['num_variables', 'template']] = df['input'].apply(map_input_to_num_and_template)\n",
        "\n",
        "    # Save the transformed dataframe to the output CSV file\n",
        "    df.to_csv(output_path, index=False)\n",
        "\n",
        "    # Print the counters\n",
        "    print(\"Number of Variables Count:\", num_variables_counter)\n",
        "    print(\"Template Count:\", template_counter)\n"
      ],
      "metadata": {
        "id": "bZhLzQFAGqun"
      },
      "execution_count": 14,
      "outputs": []
    },
    {
      "cell_type": "code",
      "source": [
        "# Path to the uploaded CSV file\n",
        "input_path = '/content/drive/MyDrive/corr2cause/train_new2.csv'\n",
        "\n",
        "# Path for the output CSV file\n",
        "output_path = '/content/drive/MyDrive/corr2cause/train_new3.csv'\n",
        "\n",
        "# Apply the transformation\n",
        "transform_and_count_hypothesis_in_csv(input_path, output_path)\n",
        "\n",
        "output_path"
      ],
      "metadata": {
        "colab": {
          "base_uri": "https://localhost:8080/",
          "height": 92
        },
        "id": "l51xwoKkHlsT",
        "outputId": "18f4efd8-6a3e-4a4b-b567-cd7716b8ac95"
      },
      "execution_count": 18,
      "outputs": [
        {
          "output_type": "stream",
          "name": "stdout",
          "text": [
            "Number of Variables Count: {4: 576, 5: 7524, 6: 197634}\n",
            "Template Count: {'has_collider': 34284, 'has_confounder': 34284, 'parent': 34292, 'non-parent ancestor': 34356, 'child': 34291, 'non-child descendant': 34227}\n"
          ]
        },
        {
          "output_type": "execute_result",
          "data": {
            "text/plain": [
              "'/content/drive/MyDrive/corr2cause/train_new3.csv'"
            ],
            "application/vnd.google.colaboratory.intrinsic+json": {
              "type": "string"
            }
          },
          "metadata": {},
          "execution_count": 18
        }
      ]
    },
    {
      "cell_type": "code",
      "source": [
        "# Path to the uploaded CSV file\n",
        "input_path = '/content/drive/MyDrive/corr2cause/dev_new2.csv'\n",
        "\n",
        "# Path for the output CSV file\n",
        "output_path = '/content/drive/MyDrive/corr2cause/dev_new3.csv'\n",
        "\n",
        "# Apply the transformation\n",
        "transform_and_count_hypothesis_in_csv(input_path, output_path)\n",
        "\n",
        "output_path"
      ],
      "metadata": {
        "colab": {
          "base_uri": "https://localhost:8080/",
          "height": 92
        },
        "id": "QLzQ3cWbHmNN",
        "outputId": "cff54f66-0140-4a49-df33-a2bff069b704"
      },
      "execution_count": 16,
      "outputs": [
        {
          "output_type": "stream",
          "name": "stdout",
          "text": [
            "Number of Variables Count: {2: 6, 3: 42, 4: 72, 5: 482, 6: 474}\n",
            "Template Count: {'has_collider': 185, 'has_confounder': 185, 'parent': 176, 'non-child descendant': 177, 'child': 177, 'non-parent ancestor': 176}\n"
          ]
        },
        {
          "output_type": "execute_result",
          "data": {
            "text/plain": [
              "'/content/drive/MyDrive/corr2cause/dev_new3.csv'"
            ],
            "application/vnd.google.colaboratory.intrinsic+json": {
              "type": "string"
            }
          },
          "metadata": {},
          "execution_count": 16
        }
      ]
    },
    {
      "cell_type": "code",
      "source": [
        "# Path to the uploaded CSV file\n",
        "input_path = '/content/drive/MyDrive/corr2cause/test_new2.csv'\n",
        "\n",
        "# Path for the output CSV file\n",
        "output_path = '/content/drive/MyDrive/corr2cause/test_new3.csv'\n",
        "\n",
        "# Apply the transformation\n",
        "transform_and_count_hypothesis_in_csv(input_path, output_path)\n",
        "\n",
        "output_path"
      ],
      "metadata": {
        "colab": {
          "base_uri": "https://localhost:8080/",
          "height": 92
        },
        "id": "Cm11djJrHmrk",
        "outputId": "99913f29-8286-41c0-f918-0469de327028"
      },
      "execution_count": 15,
      "outputs": [
        {
          "output_type": "stream",
          "name": "stdout",
          "text": [
            "Number of Variables Count: {2: 6, 3: 48, 4: 72, 5: 514, 6: 522}\n",
            "Template Count: {'has_collider': 193, 'has_confounder': 193, 'parent': 194, 'non-child descendant': 195, 'child': 194, 'non-parent ancestor': 193}\n"
          ]
        },
        {
          "output_type": "execute_result",
          "data": {
            "text/plain": [
              "'/content/drive/MyDrive/corr2cause/test_new3.csv'"
            ],
            "application/vnd.google.colaboratory.intrinsic+json": {
              "type": "string"
            }
          },
          "metadata": {},
          "execution_count": 15
        }
      ]
    },
    {
      "cell_type": "code",
      "source": [
        "badcase = ['Premise: Suppose there is a closed system of 6 variables, A, B, C, D, E and F. All the statistical relations among these 6 variables are as follows: A correlates with D. A correlates with E. A correlates with F. B correlates with C. B correlates with D. B correlates with F. C correlates with D. C correlates with F. D correlates with E. D correlates with F. E correlates with F. However, A is independent of B. A and B are independent given C. A and B are independent given C and E. A and B are independent given E. A is independent of C. A and C are independent given B. A and C are independent given B and E. A and C are independent given E. B is independent of E. B and E are independent given A. B and E are independent given A and C. B and E are independent given A, C and D. B and E are independent given A and D. B and E are independent given C. C is independent of E. C and E are independent given A. C and E are independent given A and B. C and E are independent given A, B and D. C and E are independent given A and D. C and E are independent given B. D and E are independent given A. D and E are independent given A and B. D and E are independent given A, B and C. D and E are independent given A and C.\\nHypothesis: F causes something else which causes C.',\n",
        "\n",
        "'Premise: Suppose there is a closed system of 6 variables, A, B, C, D, E and F. All the statistical relations among these 6 variables are as follows: A correlates with D. A correlates with E. A correlates with F. B correlates with C. B correlates with D. B correlates with F. C correlates with D. C correlates with F. D correlates with E. D correlates with F. E correlates with F. However, A is independent of B. A and B are independent given C. A and B are independent given C and E. A and B are independent given E. A is independent of C. A and C are independent given B. A and C are independent given B and E. A and C are independent given E. B is independent of E. B and E are independent given A. B and E are independent given A and C. B and E are independent given A, C and D. B and E are independent given A and D. B and E are independent given C. C is independent of E. C and E are independent given A. C and E are independent given A and B. C and E are independent given A, B and D. C and E are independent given A and D. C and E are independent given B. D and E are independent given A. D and E are independent given A and B. D and E are independent given A, B and C. D and E are independent given A and C.\\nHypothesis: C is a cause for D, but not a direct one.',\n",
        "\n",
        "'Premise: Suppose there is a closed system of 6 variables, A, B, C, D, E and F. All the statistical relations among these 6 variables are as follows: A correlates with D. A correlates with E. A correlates with F. B correlates with C. B correlates with D. B correlates with F. C correlates with D. C correlates with F. D correlates with E. D correlates with F. E correlates with F. However, A is independent of B. A and B are independent given C. A and B are independent given C and E. A and B are independent given E. A is independent of C. A and C are independent given B. A and C are independent given B and E. A and C are independent given E. B is independent of E. B and E are independent given A. B and E are independent given A and C. B and E are independent given A, C and D. B and E are independent given A and D. B and E are independent given C. C is independent of E. C and E are independent given A. C and E are independent given A and B. C and E are independent given A, B and D. C and E are independent given A and D. C and E are independent given B. D and E are independent given A. D and E are independent given A and B. D and E are independent given A, B and C. D and E are independent given A and C.\\nHypothesis: B is a cause for E, but not a direct one.',\n",
        "\n",
        " 'Premise: Suppose there is a closed system of 5 variables, A, B, C, D and E. All the statistical relations among these 5 variables are as follows: A correlates with C. A correlates with D. A correlates with E. B correlates with C. B correlates with D. B correlates with E. C correlates with D. C correlates with E. D correlates with E. However, A is independent of B. A and D are independent given B and C. A and D are independent given B, C and E. B and E are independent given A and C. B and E are independent given A, C and D. D and E are independent given A, B and C. D and E are independent given A and C. D and E are independent given B and C.\\nHypothesis: A is a cause for D, but not a direct one.',\n",
        "\n",
        " 'Premise: Suppose there is a closed system of 5 variables, A, B, C, D and E. All the statistical relations among these 5 variables are as follows: A correlates with C. A correlates with D. A correlates with E. B correlates with C. B correlates with D. B correlates with E. C correlates with D. C correlates with E. D correlates with E. However, A is independent of B. A and D are independent given B and C. A and D are independent given B, C and E. B and E are independent given A and C. B and E are independent given A, C and D. D and E are independent given A, B and C. D and E are independent given A and C. D and E are independent given B and C.\\nHypothesis: B is a cause for D, but not a direct one.',\n",
        "\n",
        " 'Premise: Suppose there is a closed system of 6 variables, A, B, C, D, E and F. All the statistical relations among these 6 variables are as follows: A correlates with D. A correlates with E. A correlates with F. B correlates with C. B correlates with D. B correlates with F. C correlates with D. C correlates with F. D correlates with E. D correlates with F. E correlates with F. However, A is independent of B. A and B are independent given C. A and B are independent given C and E. A and B are independent given E. A is independent of C. A and C are independent given B. A and C are independent given B and E. A and C are independent given E. B is independent of E. B and E are independent given A. B and E are independent given A and C. B and E are independent given A, C and D. B and E are independent given A and D. B and E are independent given C. C is independent of E. C and E are independent given A. C and E are independent given A and B. C and E are independent given A, B and D. C and E are independent given A and D. C and E are independent given B. D and E are independent given A. D and E are independent given A and B. D and E are independent given A, B and C. D and E are independent given A and C.\\nHypothesis: C is a cause for E, but not a direct one.',\n",
        "\n",
        "'Premise: Suppose there is a closed system of 6 variables, A, B, C, D, E and F. All the statistical relations among these 6 variables are as follows: A correlates with D. A correlates with E. A correlates with F. B correlates with C. B correlates with D. B correlates with F. C correlates with D. C correlates with F. D correlates with E. D correlates with F. E correlates with F. However, A is independent of B. A and B are independent given C. A and B are independent given C and E. A and B are independent given E. A is independent of C. A and C are independent given B. A and C are independent given B and E. A and C are independent given E. B is independent of E. B and E are independent given A. B and E are independent given A and C. B and E are independent given A, C and D. B and E are independent given A and D. B and E are independent given C. C is independent of E. C and E are independent given A. C and E are independent given A and B. C and E are independent given A, B and D. C and E are independent given A and D. C and E are independent given B. D and E are independent given A. D and E are independent given A and B. D and E are independent given A, B and C. D and E are independent given A and C.\\nHypothesis: E causes something else which causes A.',\n",
        "\n",
        "'Premise: Suppose there is a closed system of 5 variables, A, B, C, D and E. All the statistical relations among these 5 variables are as follows: A correlates with C. A correlates with D. A correlates with E. B correlates with C. B correlates with D. B correlates with E. C correlates with D. C correlates with E. D correlates with E. However, A is independent of B. A and D are independent given B and C. A and D are independent given B, C and E. B and E are independent given A and C. B and E are independent given A, C and D. D and E are independent given A, B and C. D and E are independent given A and C. D and E are independent given B and C.\\nHypothesis: C causes something else which causes A.',\n",
        "\n",
        "'Premise: Suppose there is a closed system of 6 variables, A, B, C, D, E and F. All the statistical relations among these 6 variables are as follows: A correlates with D. A correlates with E. A correlates with F. B correlates with C. B correlates with D. B correlates with F. C correlates with D. C correlates with F. D correlates with E. D correlates with F. E correlates with F. However, A is independent of B. A and B are independent given C. A and B are independent given C and E. A and B are independent given E. A is independent of C. A and C are independent given B. A and C are independent given B and E. A and C are independent given E. B is independent of E. B and E are independent given A. B and E are independent given A and C. B and E are independent given A, C and D. B and E are independent given A and D. B and E are independent given C. C is independent of E. C and E are independent given A. C and E are independent given A and B. C and E are independent given A, B and D. C and E are independent given A and D. C and E are independent given B. D and E are independent given A. D and E are independent given A and B. D and E are independent given A, B and C. D and E are independent given A and C.\\nHypothesis: D causes something else which causes C.',\n",
        "\n",
        "'Premise: Suppose there is a closed system of 5 variables, A, B, C, D and E. All the statistical relations among these 5 variables are as follows: A correlates with C. A correlates with D. A correlates with E. B correlates with C. B correlates with D. B correlates with E. C correlates with D. C correlates with E. D correlates with E. However, A is independent of B. A and D are independent given B and C. A and D are independent given B, C and E. B and E are independent given A and C. B and E are independent given A, C and D. D and E are independent given A, B and C. D and E are independent given A and C. D and E are independent given B and C.\\nHypothesis: A is a cause for C, but not a direct one.']\n"
      ],
      "metadata": {
        "id": "vTZ8P0LiWBdp"
      },
      "execution_count": 60,
      "outputs": []
    },
    {
      "cell_type": "code",
      "source": [
        "import re\n",
        "\n",
        "def parse_relationship_string(s):\n",
        "    property2hyp_template = {\n",
        "        \"parent\": \"{node_i} directly causes {node_j}.\",\n",
        "        \"non-parent ancestor\": \"{node_i} causes something else which causes {node_j}.\",\n",
        "        \"child\": \"{node_j} directly causes {node_i}.\",\n",
        "        \"non-child descendant\": \"{node_j} is a cause for {node_i}, but not a direct one.\",\n",
        "        \"has_collider\": \"There exists at least one collider (i.e., common effect) of {node_i} and {node_j}.\",\n",
        "        \"has_confounder\": \"There exists at least one confounder (i.e., common cause) of {node_i} and {node_j}.\",\n",
        "    }\n",
        "\n",
        "    for key, template in property2hyp_template.items():\n",
        "        # Replace placeholders with named regex patterns and escape other characters\n",
        "        pattern = re.escape(template).replace(\"\\\\{node_i\\\\}\", \"(?P<node_i>.+?)\").replace(\"\\\\{node_j\\\\}\", \"(?P<node_j>.+?)\")\n",
        "        match = re.match(pattern, s)\n",
        "        if match:\n",
        "            # Extracting using the named groups\n",
        "            node_i = match.group('node_i')\n",
        "            node_j = match.group('node_j')\n",
        "            return key, node_i, node_j\n",
        "\n",
        "    return None\n",
        "\n",
        "# Example usage\n",
        "example_string = \"There exists at least one confounder (i.e., common cause) of A and D.\"\n",
        "result = parse_relationship_string(example_string)\n",
        "result\n"
      ],
      "metadata": {
        "colab": {
          "base_uri": "https://localhost:8080/"
        },
        "id": "L6kVz_FOWi3z",
        "outputId": "21296b4d-a76f-4895-8103-982896f919c4"
      },
      "execution_count": 61,
      "outputs": [
        {
          "output_type": "execute_result",
          "data": {
            "text/plain": [
              "('has_confounder', 'A', 'D')"
            ]
          },
          "metadata": {},
          "execution_count": 61
        }
      ]
    },
    {
      "cell_type": "code",
      "source": [
        "def construct_relationship_string(relationship, node_i, node_j):\n",
        "    property2hyp_template = {\n",
        "        \"parent\": \"{node_i} directly causes {node_j}.\",\n",
        "        \"non-parent ancestor\": \"{node_i} causes something else which causes {node_j}.\",\n",
        "        \"child\": \"{node_j} directly causes {node_i}.\",\n",
        "        \"non-child descendant\": \"{node_j} is a cause for {node_i}, but not a direct one.\",\n",
        "        \"has_collider\": \"There exists at least one collider (i.e., common effect) of {node_i} and {node_j}.\",\n",
        "        \"has_confounder\": \"There exists at least one confounder (i.e., common cause) of {node_i} and {node_j}.\",\n",
        "    }\n",
        "\n",
        "    if relationship in property2hyp_template:\n",
        "        template = property2hyp_template[relationship]\n",
        "        return template.format(node_i=node_i, node_j=node_j)\n",
        "\n",
        "    return None\n",
        "\n",
        "# Example usage\n",
        "# relationship = 'non-child descendant'\n",
        "relationship = \"non-parent ancestor\"\n",
        "node_i = 'A'\n",
        "node_j = 'D'\n",
        "constructed_string = construct_relationship_string(relationship, node_i, node_j)\n",
        "constructed_string  # Expected to be 'X directly causes Y.'\n"
      ],
      "metadata": {
        "colab": {
          "base_uri": "https://localhost:8080/",
          "height": 36
        },
        "id": "3f0xC6AgYkOr",
        "outputId": "5d106eab-e440-40f6-91a0-c2d24cd81985"
      },
      "execution_count": 62,
      "outputs": [
        {
          "output_type": "execute_result",
          "data": {
            "text/plain": [
              "'A causes something else which causes D.'"
            ],
            "application/vnd.google.colaboratory.intrinsic+json": {
              "type": "string"
            }
          },
          "metadata": {},
          "execution_count": 62
        }
      ]
    },
    {
      "cell_type": "code",
      "source": [
        "badcase_inverse = []\n",
        "def fix_badcase(s):\n",
        "    split_data = s.split('\\n')\n",
        "    premise = split_data[0].strip(\"Premise: \")\n",
        "    hypothesis = split_data[1].strip(\"Hypothesis: \")\n",
        "    if s in badcase:\n",
        "        result = parse_relationship_string(hypothesis)\n",
        "        if result[0] == \"non-parent ancestor\":\n",
        "            hypothesis = construct_relationship_string(\"non-child descendant\", result[2], result[1])\n",
        "        elif result[0] == \"non-child descendant\":\n",
        "            hypothesis = construct_relationship_string(\"non-parent ancestor\", result[2], result[1])\n",
        "        else:\n",
        "            raise NotImplemented\n",
        "        badcase_inverse.append(f\"Premise: {premise}\\nHypothesis: {hypothesis}\")\n",
        "        return f\"Premise: {premise}\\nHypothesis: {hypothesis}\"\n",
        "    else:\n",
        "        return s\n",
        "# badcase0 = \"Premise: Suppose there is a closed system of 6 variables, A, B, C, D, E and F. All the statistical relations among these 6 variables are as follows: A correlates with D. A correlates with E. A correlates with F. B correlates with C. B correlates with D. B correlates with F. C correlates with D. C correlates with F. D correlates with E. D correlates with F. E correlates with F. However, A is independent of B. A and B are independent given C. A and B are independent given C and E. A and B are independent given E. A is independent of C. A and C are independent given B. A and C are independent given B and E. A and C are independent given E. B is independent of E. B and E are independent given A. B and E are independent given A and C. B and E are independent given A, C and D. B and E are independent given A and D. B and E are independent given C. C is independent of E. C and E are independent given A. C and E are independent given A and B. C and E are independent given A, B and D. C and E are independent given A and D. C and E are independent given B. D and E are independent given A. D and E are independent given A and B. D and E are independent given A, B and C. D and E are independent given A and C.\\nHypothesis: F causes something else which causes C.\"\n",
        "print(badcase_inverse)"
      ],
      "metadata": {
        "colab": {
          "base_uri": "https://localhost:8080/"
        },
        "id": "0Ro4inHZWjht",
        "outputId": "93d1da62-695c-45e0-cd5b-61bb083e27d0"
      },
      "execution_count": 63,
      "outputs": [
        {
          "output_type": "stream",
          "name": "stdout",
          "text": [
            "[]\n"
          ]
        }
      ]
    },
    {
      "cell_type": "code",
      "source": [
        "def transform_hypothesis_in_csv(input_path, output_path):\n",
        "    # Read the input CSV file\n",
        "    df = pd.read_csv(input_path)\n",
        "\n",
        "    # Define the original and new templates\n",
        "\n",
        "    # Apply the transformation to the 'input' column\n",
        "    df['input'] = df['input'].apply(fix_badcase)\n",
        "\n",
        "    print(len(badcase_inverse))\n",
        "\n",
        "    # Initialize counters\n",
        "    num_variables_counter = {}\n",
        "    template_counter = {}\n",
        "\n",
        "    # Function to apply to each row and update counters\n",
        "    def map_input_to_num_and_template(input_string):\n",
        "        num_variables, template_used = analyze_data_detailed(input_string)\n",
        "        # Update counters\n",
        "        num_variables_counter[num_variables] = num_variables_counter.get(num_variables, 0) + 1\n",
        "        template_counter[template_used] = template_counter.get(template_used, 0) + 1\n",
        "        return pd.Series([num_variables, template_used], index=['num_variables', 'template'])\n",
        "\n",
        "    # Apply the transformation to the 'input' column\n",
        "    df[['num_variables', 'template']] = df['input'].apply(map_input_to_num_and_template)\n",
        "\n",
        "    df = df.sort_values(by='num_variables')\n",
        "\n",
        "    # Save the transformed dataframe to the output CSV file\n",
        "    df.to_csv(output_path, index=False)\n",
        "\n",
        "    # Print the counters\n",
        "    print(\"Number of Variables Count:\", num_variables_counter)\n",
        "    print(\"Template Count:\", template_counter)"
      ],
      "metadata": {
        "id": "pDrPvoEGY4mM"
      },
      "execution_count": 64,
      "outputs": []
    },
    {
      "cell_type": "code",
      "source": [
        "# Path to the uploaded CSV file\n",
        "input_path = '/content/drive/MyDrive/data/data_old/test.csv'\n",
        "\n",
        "# Path for the output CSV file\n",
        "output_path = '/content/drive/MyDrive/data/data_old/test_new.csv'\n",
        "\n",
        "# Apply the transformation\n",
        "transform_hypothesis_in_csv(input_path, output_path)\n",
        "\n",
        "output_path"
      ],
      "metadata": {
        "colab": {
          "base_uri": "https://localhost:8080/",
          "height": 110
        },
        "id": "l00JpuUNZfr3",
        "outputId": "b6a250e6-02f0-4d84-c531-34933e58d5cf"
      },
      "execution_count": 65,
      "outputs": [
        {
          "output_type": "stream",
          "name": "stdout",
          "text": [
            "10\n",
            "Number of Variables Count: {2: 6, 3: 48, 4: 72, 5: 514, 6: 522}\n",
            "Template Count: {'has_collider': 193, 'has_confounder': 193, 'parent': 194, 'non-child descendant': 193, 'child': 194, 'non-parent ancestor': 195}\n"
          ]
        },
        {
          "output_type": "execute_result",
          "data": {
            "text/plain": [
              "'/content/drive/MyDrive/data/data_old/test_new.csv'"
            ],
            "application/vnd.google.colaboratory.intrinsic+json": {
              "type": "string"
            }
          },
          "metadata": {},
          "execution_count": 65
        }
      ]
    },
    {
      "cell_type": "code",
      "source": [
        "badcase = badcase_inverse\n",
        "badcase_inverse = []\n",
        "# Path to the uploaded CSV file\n",
        "input_path = '/content/drive/MyDrive/data/data_old/dev.csv'\n",
        "\n",
        "# Path for the output CSV file\n",
        "output_path = '/content/drive/MyDrive/data/data_old/dev_new.csv'\n",
        "\n",
        "# Apply the transformation\n",
        "transform_hypothesis_in_csv(input_path, output_path)\n",
        "\n",
        "output_path"
      ],
      "metadata": {
        "colab": {
          "base_uri": "https://localhost:8080/",
          "height": 110
        },
        "id": "D9mfik72awFM",
        "outputId": "b2e1a1eb-57c1-454c-a637-395e728b8772"
      },
      "execution_count": 66,
      "outputs": [
        {
          "output_type": "stream",
          "name": "stdout",
          "text": [
            "0\n",
            "Number of Variables Count: {2: 6, 3: 42, 4: 72, 5: 482, 6: 474}\n",
            "Template Count: {'has_collider': 185, 'has_confounder': 185, 'parent': 176, 'non-child descendant': 177, 'child': 177, 'non-parent ancestor': 176}\n"
          ]
        },
        {
          "output_type": "execute_result",
          "data": {
            "text/plain": [
              "'/content/drive/MyDrive/data/data_old/dev_new.csv'"
            ],
            "application/vnd.google.colaboratory.intrinsic+json": {
              "type": "string"
            }
          },
          "metadata": {},
          "execution_count": 66
        }
      ]
    },
    {
      "cell_type": "code",
      "source": [
        "# Path to the uploaded CSV file\n",
        "input_path = '/content/drive/MyDrive/data/data_old/train.csv'\n",
        "\n",
        "# Path for the output CSV file\n",
        "output_path = '/content/drive/MyDrive/data/data_old/train_new.csv'\n",
        "\n",
        "# Apply the transformation\n",
        "transform_hypothesis_in_csv(input_path, output_path)\n",
        "\n",
        "output_path"
      ],
      "metadata": {
        "colab": {
          "base_uri": "https://localhost:8080/",
          "height": 110
        },
        "id": "Qkt9gIWObovJ",
        "outputId": "ff47c35d-cb1b-48b7-ba58-8a9a0984bf56"
      },
      "execution_count": 67,
      "outputs": [
        {
          "output_type": "stream",
          "name": "stdout",
          "text": [
            "0\n",
            "Number of Variables Count: {4: 576, 5: 7524, 6: 197634}\n",
            "Template Count: {'has_collider': 34284, 'has_confounder': 34284, 'parent': 34292, 'non-parent ancestor': 34356, 'child': 34291, 'non-child descendant': 34227}\n"
          ]
        },
        {
          "output_type": "execute_result",
          "data": {
            "text/plain": [
              "'/content/drive/MyDrive/data/data_old/train_new.csv'"
            ],
            "application/vnd.google.colaboratory.intrinsic+json": {
              "type": "string"
            }
          },
          "metadata": {},
          "execution_count": 67
        }
      ]
    },
    {
      "cell_type": "code",
      "source": [
        "badcase"
      ],
      "metadata": {
        "colab": {
          "base_uri": "https://localhost:8080/"
        },
        "id": "kc9jFjjKbtQc",
        "outputId": "24d9192a-6c52-4694-e355-98aa28c3f024"
      },
      "execution_count": 68,
      "outputs": [
        {
          "output_type": "execute_result",
          "data": {
            "text/plain": [
              "['Premise: Suppose there is a closed system of 5 variables, A, B, C, D and E. All the statistical relations among these 5 variables are as follows: A correlates with C. A correlates with D. A correlates with E. B correlates with C. B correlates with D. B correlates with E. C correlates with D. C correlates with E. D correlates with E. However, A is independent of B. A and D are independent given B and C. A and D are independent given B, C and E. B and E are independent given A and C. B and E are independent given A, C and D. D and E are independent given A, B and C. D and E are independent given A and C. D and E are independent given B and C.\\nHypothesis: A causes something else which causes C.',\n",
              " 'Premise: Suppose there is a closed system of 5 variables, A, B, C, D and E. All the statistical relations among these 5 variables are as follows: A correlates with C. A correlates with D. A correlates with E. B correlates with C. B correlates with D. B correlates with E. C correlates with D. C correlates with E. D correlates with E. However, A is independent of B. A and D are independent given B and C. A and D are independent given B, C and E. B and E are independent given A and C. B and E are independent given A, C and D. D and E are independent given A, B and C. D and E are independent given A and C. D and E are independent given B and C.\\nHypothesis: C is a cause for A, but not a direct one.',\n",
              " 'Premise: Suppose there is a closed system of 5 variables, A, B, C, D and E. All the statistical relations among these 5 variables are as follows: A correlates with C. A correlates with D. A correlates with E. B correlates with C. B correlates with D. B correlates with E. C correlates with D. C correlates with E. D correlates with E. However, A is independent of B. A and D are independent given B and C. A and D are independent given B, C and E. B and E are independent given A and C. B and E are independent given A, C and D. D and E are independent given A, B and C. D and E are independent given A and C. D and E are independent given B and C.\\nHypothesis: A causes something else which causes D.',\n",
              " 'Premise: Suppose there is a closed system of 5 variables, A, B, C, D and E. All the statistical relations among these 5 variables are as follows: A correlates with C. A correlates with D. A correlates with E. B correlates with C. B correlates with D. B correlates with E. C correlates with D. C correlates with E. D correlates with E. However, A is independent of B. A and D are independent given B and C. A and D are independent given B, C and E. B and E are independent given A and C. B and E are independent given A, C and D. D and E are independent given A, B and C. D and E are independent given A and C. D and E are independent given B and C.\\nHypothesis: B causes something else which causes D.',\n",
              " 'Premise: Suppose there is a closed system of 6 variables, A, B, C, D, E and F. All the statistical relations among these 6 variables are as follows: A correlates with D. A correlates with E. A correlates with F. B correlates with C. B correlates with D. B correlates with F. C correlates with D. C correlates with F. D correlates with E. D correlates with F. E correlates with F. However, A is independent of B. A and B are independent given C. A and B are independent given C and E. A and B are independent given E. A is independent of C. A and C are independent given B. A and C are independent given B and E. A and C are independent given E. B is independent of E. B and E are independent given A. B and E are independent given A and C. B and E are independent given A, C and D. B and E are independent given A and D. B and E are independent given C. C is independent of E. C and E are independent given A. C and E are independent given A and B. C and E are independent given A, B and D. C and E are independent given A and D. C and E are independent given B. D and E are independent given A. D and E are independent given A and B. D and E are independent given A, B and C. D and E are independent given A and C.\\nHypothesis: E is a cause for A, but not a direct one.',\n",
              " 'Premise: Suppose there is a closed system of 6 variables, A, B, C, D, E and F. All the statistical relations among these 6 variables are as follows: A correlates with D. A correlates with E. A correlates with F. B correlates with C. B correlates with D. B correlates with F. C correlates with D. C correlates with F. D correlates with E. D correlates with F. E correlates with F. However, A is independent of B. A and B are independent given C. A and B are independent given C and E. A and B are independent given E. A is independent of C. A and C are independent given B. A and C are independent given B and E. A and C are independent given E. B is independent of E. B and E are independent given A. B and E are independent given A and C. B and E are independent given A, C and D. B and E are independent given A and D. B and E are independent given C. C is independent of E. C and E are independent given A. C and E are independent given A and B. C and E are independent given A, B and D. C and E are independent given A and D. C and E are independent given B. D and E are independent given A. D and E are independent given A and B. D and E are independent given A, B and C. D and E are independent given A and C.\\nHypothesis: B causes something else which causes E.',\n",
              " 'Premise: Suppose there is a closed system of 6 variables, A, B, C, D, E and F. All the statistical relations among these 6 variables are as follows: A correlates with D. A correlates with E. A correlates with F. B correlates with C. B correlates with D. B correlates with F. C correlates with D. C correlates with F. D correlates with E. D correlates with F. E correlates with F. However, A is independent of B. A and B are independent given C. A and B are independent given C and E. A and B are independent given E. A is independent of C. A and C are independent given B. A and C are independent given B and E. A and C are independent given E. B is independent of E. B and E are independent given A. B and E are independent given A and C. B and E are independent given A, C and D. B and E are independent given A and D. B and E are independent given C. C is independent of E. C and E are independent given A. C and E are independent given A and B. C and E are independent given A, B and D. C and E are independent given A and D. C and E are independent given B. D and E are independent given A. D and E are independent given A and B. D and E are independent given A, B and C. D and E are independent given A and C.\\nHypothesis: C causes something else which causes D.',\n",
              " 'Premise: Suppose there is a closed system of 6 variables, A, B, C, D, E and F. All the statistical relations among these 6 variables are as follows: A correlates with D. A correlates with E. A correlates with F. B correlates with C. B correlates with D. B correlates with F. C correlates with D. C correlates with F. D correlates with E. D correlates with F. E correlates with F. However, A is independent of B. A and B are independent given C. A and B are independent given C and E. A and B are independent given E. A is independent of C. A and C are independent given B. A and C are independent given B and E. A and C are independent given E. B is independent of E. B and E are independent given A. B and E are independent given A and C. B and E are independent given A, C and D. B and E are independent given A and D. B and E are independent given C. C is independent of E. C and E are independent given A. C and E are independent given A and B. C and E are independent given A, B and D. C and E are independent given A and D. C and E are independent given B. D and E are independent given A. D and E are independent given A and B. D and E are independent given A, B and C. D and E are independent given A and C.\\nHypothesis: D is a cause for C, but not a direct one.',\n",
              " 'Premise: Suppose there is a closed system of 6 variables, A, B, C, D, E and F. All the statistical relations among these 6 variables are as follows: A correlates with D. A correlates with E. A correlates with F. B correlates with C. B correlates with D. B correlates with F. C correlates with D. C correlates with F. D correlates with E. D correlates with F. E correlates with F. However, A is independent of B. A and B are independent given C. A and B are independent given C and E. A and B are independent given E. A is independent of C. A and C are independent given B. A and C are independent given B and E. A and C are independent given E. B is independent of E. B and E are independent given A. B and E are independent given A and C. B and E are independent given A, C and D. B and E are independent given A and D. B and E are independent given C. C is independent of E. C and E are independent given A. C and E are independent given A and B. C and E are independent given A, B and D. C and E are independent given A and D. C and E are independent given B. D and E are independent given A. D and E are independent given A and B. D and E are independent given A, B and C. D and E are independent given A and C.\\nHypothesis: C causes something else which causes E.',\n",
              " 'Premise: Suppose there is a closed system of 6 variables, A, B, C, D, E and F. All the statistical relations among these 6 variables are as follows: A correlates with D. A correlates with E. A correlates with F. B correlates with C. B correlates with D. B correlates with F. C correlates with D. C correlates with F. D correlates with E. D correlates with F. E correlates with F. However, A is independent of B. A and B are independent given C. A and B are independent given C and E. A and B are independent given E. A is independent of C. A and C are independent given B. A and C are independent given B and E. A and C are independent given E. B is independent of E. B and E are independent given A. B and E are independent given A and C. B and E are independent given A, C and D. B and E are independent given A and D. B and E are independent given C. C is independent of E. C and E are independent given A. C and E are independent given A and B. C and E are independent given A, B and D. C and E are independent given A and D. C and E are independent given B. D and E are independent given A. D and E are independent given A and B. D and E are independent given A, B and C. D and E are independent given A and C.\\nHypothesis: F is a cause for C, but not a direct one.']"
            ]
          },
          "metadata": {},
          "execution_count": 68
        }
      ]
    },
    {
      "cell_type": "code",
      "source": [],
      "metadata": {
        "id": "CzNuE2rqfQog"
      },
      "execution_count": null,
      "outputs": []
    }
  ]
}